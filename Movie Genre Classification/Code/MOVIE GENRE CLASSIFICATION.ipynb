{
 "cells": [
  {
   "cell_type": "code",
   "execution_count": 1,
   "id": "b6aa16a6",
   "metadata": {},
   "outputs": [],
   "source": [
    "import numpy as np\n",
    "import pandas as pd\n",
    "import seaborn as sns\n",
    "import matplotlib.pyplot as plt\n",
    "import warnings\n",
    "warnings.filterwarnings('ignore')\n",
    "from sklearn.feature_extraction.text import TfidfVectorizer\n",
    "from sklearn.preprocessing import LabelEncoder\n",
    "from sklearn.model_selection import train_test_split\n",
    "from sklearn.naive_bayes import MultinomialNB\n",
    "from sklearn.linear_model import LogisticRegression\n",
    "from sklearn.svm import LinearSVC\n",
    "from sklearn.svm import SVC\n",
    "from sklearn.ensemble import VotingClassifier\n",
    "from sklearn.metrics import classification_report,accuracy_score,confusion_matrix,r2_score"
   ]
  },
  {
   "cell_type": "markdown",
   "id": "c75b1b20",
   "metadata": {},
   "source": [
    "# Importing the Data"
   ]
  },
  {
   "cell_type": "code",
   "execution_count": 2,
   "id": "1d8a872a",
   "metadata": {},
   "outputs": [],
   "source": [
    "train_data = pd.read_csv(\"train_data.txt\",sep=\":::\",names=[\"ID\",\"TITLE\",\"GENRE\",\"DESCRIPTION\"])"
   ]
  },
  {
   "cell_type": "code",
   "execution_count": 3,
   "id": "7f777cca",
   "metadata": {},
   "outputs": [],
   "source": [
    "test_data = pd.read_csv(\"test_data.txt\",sep=\":::\",names=['ID','TITLE','GENRE','DESCRIPTION'])"
   ]
  },
  {
   "cell_type": "code",
   "execution_count": 4,
   "id": "6c1d1a66",
   "metadata": {},
   "outputs": [],
   "source": [
    "test_data_solution = pd.read_csv(\"test_data_solution.txt\",sep=':::',names=['ID','GENRE','DESCRIPTION'])"
   ]
  },
  {
   "cell_type": "code",
   "execution_count": 5,
   "id": "5415a579",
   "metadata": {},
   "outputs": [
    {
     "data": {
      "text/html": [
       "<div>\n",
       "<style scoped>\n",
       "    .dataframe tbody tr th:only-of-type {\n",
       "        vertical-align: middle;\n",
       "    }\n",
       "\n",
       "    .dataframe tbody tr th {\n",
       "        vertical-align: top;\n",
       "    }\n",
       "\n",
       "    .dataframe thead th {\n",
       "        text-align: right;\n",
       "    }\n",
       "</style>\n",
       "<table border=\"1\" class=\"dataframe\">\n",
       "  <thead>\n",
       "    <tr style=\"text-align: right;\">\n",
       "      <th></th>\n",
       "      <th>ID</th>\n",
       "      <th>TITLE</th>\n",
       "      <th>GENRE</th>\n",
       "      <th>DESCRIPTION</th>\n",
       "    </tr>\n",
       "  </thead>\n",
       "  <tbody>\n",
       "    <tr>\n",
       "      <th>0</th>\n",
       "      <td>1</td>\n",
       "      <td>Oscar et la dame rose (2009)</td>\n",
       "      <td>drama</td>\n",
       "      <td>Listening in to a conversation between his do...</td>\n",
       "    </tr>\n",
       "    <tr>\n",
       "      <th>1</th>\n",
       "      <td>2</td>\n",
       "      <td>Cupid (1997)</td>\n",
       "      <td>thriller</td>\n",
       "      <td>A brother and sister with a past incestuous r...</td>\n",
       "    </tr>\n",
       "    <tr>\n",
       "      <th>2</th>\n",
       "      <td>3</td>\n",
       "      <td>Young, Wild and Wonderful (1980)</td>\n",
       "      <td>adult</td>\n",
       "      <td>As the bus empties the students for their fie...</td>\n",
       "    </tr>\n",
       "    <tr>\n",
       "      <th>3</th>\n",
       "      <td>4</td>\n",
       "      <td>The Secret Sin (1915)</td>\n",
       "      <td>drama</td>\n",
       "      <td>To help their unemployed father make ends mee...</td>\n",
       "    </tr>\n",
       "    <tr>\n",
       "      <th>4</th>\n",
       "      <td>5</td>\n",
       "      <td>The Unrecovered (2007)</td>\n",
       "      <td>drama</td>\n",
       "      <td>The film's title refers not only to the un-re...</td>\n",
       "    </tr>\n",
       "  </tbody>\n",
       "</table>\n",
       "</div>"
      ],
      "text/plain": [
       "   ID                               TITLE       GENRE  \\\n",
       "0   1       Oscar et la dame rose (2009)       drama    \n",
       "1   2                       Cupid (1997)    thriller    \n",
       "2   3   Young, Wild and Wonderful (1980)       adult    \n",
       "3   4              The Secret Sin (1915)       drama    \n",
       "4   5             The Unrecovered (2007)       drama    \n",
       "\n",
       "                                         DESCRIPTION  \n",
       "0   Listening in to a conversation between his do...  \n",
       "1   A brother and sister with a past incestuous r...  \n",
       "2   As the bus empties the students for their fie...  \n",
       "3   To help their unemployed father make ends mee...  \n",
       "4   The film's title refers not only to the un-re...  "
      ]
     },
     "metadata": {},
     "output_type": "display_data"
    },
    {
     "name": "stdout",
     "output_type": "stream",
     "text": [
      "(54214, 4)\n"
     ]
    },
    {
     "data": {
      "text/html": [
       "<div>\n",
       "<style scoped>\n",
       "    .dataframe tbody tr th:only-of-type {\n",
       "        vertical-align: middle;\n",
       "    }\n",
       "\n",
       "    .dataframe tbody tr th {\n",
       "        vertical-align: top;\n",
       "    }\n",
       "\n",
       "    .dataframe thead th {\n",
       "        text-align: right;\n",
       "    }\n",
       "</style>\n",
       "<table border=\"1\" class=\"dataframe\">\n",
       "  <thead>\n",
       "    <tr style=\"text-align: right;\">\n",
       "      <th></th>\n",
       "      <th>ID</th>\n",
       "      <th>TITLE</th>\n",
       "      <th>GENRE</th>\n",
       "      <th>DESCRIPTION</th>\n",
       "    </tr>\n",
       "  </thead>\n",
       "  <tbody>\n",
       "    <tr>\n",
       "      <th>0</th>\n",
       "      <td>1</td>\n",
       "      <td>Edgar's Lunch (1998)</td>\n",
       "      <td>L.R. Brane loves his life - his car, his apar...</td>\n",
       "      <td>NaN</td>\n",
       "    </tr>\n",
       "    <tr>\n",
       "      <th>1</th>\n",
       "      <td>2</td>\n",
       "      <td>La guerra de papá (1977)</td>\n",
       "      <td>Spain, March 1964: Quico is a very naughty ch...</td>\n",
       "      <td>NaN</td>\n",
       "    </tr>\n",
       "    <tr>\n",
       "      <th>2</th>\n",
       "      <td>3</td>\n",
       "      <td>Off the Beaten Track (2010)</td>\n",
       "      <td>One year in the life of Albin and his family ...</td>\n",
       "      <td>NaN</td>\n",
       "    </tr>\n",
       "    <tr>\n",
       "      <th>3</th>\n",
       "      <td>4</td>\n",
       "      <td>Meu Amigo Hindu (2015)</td>\n",
       "      <td>His father has died, he hasn't spoken with hi...</td>\n",
       "      <td>NaN</td>\n",
       "    </tr>\n",
       "    <tr>\n",
       "      <th>4</th>\n",
       "      <td>5</td>\n",
       "      <td>Er nu zhai (1955)</td>\n",
       "      <td>Before he was known internationally as a mart...</td>\n",
       "      <td>NaN</td>\n",
       "    </tr>\n",
       "  </tbody>\n",
       "</table>\n",
       "</div>"
      ],
      "text/plain": [
       "   ID                          TITLE  \\\n",
       "0   1          Edgar's Lunch (1998)    \n",
       "1   2      La guerra de papá (1977)    \n",
       "2   3   Off the Beaten Track (2010)    \n",
       "3   4        Meu Amigo Hindu (2015)    \n",
       "4   5             Er nu zhai (1955)    \n",
       "\n",
       "                                               GENRE  DESCRIPTION  \n",
       "0   L.R. Brane loves his life - his car, his apar...          NaN  \n",
       "1   Spain, March 1964: Quico is a very naughty ch...          NaN  \n",
       "2   One year in the life of Albin and his family ...          NaN  \n",
       "3   His father has died, he hasn't spoken with hi...          NaN  \n",
       "4   Before he was known internationally as a mart...          NaN  "
      ]
     },
     "metadata": {},
     "output_type": "display_data"
    },
    {
     "name": "stdout",
     "output_type": "stream",
     "text": [
      "(54200, 4)\n"
     ]
    },
    {
     "data": {
      "text/html": [
       "<div>\n",
       "<style scoped>\n",
       "    .dataframe tbody tr th:only-of-type {\n",
       "        vertical-align: middle;\n",
       "    }\n",
       "\n",
       "    .dataframe tbody tr th {\n",
       "        vertical-align: top;\n",
       "    }\n",
       "\n",
       "    .dataframe thead th {\n",
       "        text-align: right;\n",
       "    }\n",
       "</style>\n",
       "<table border=\"1\" class=\"dataframe\">\n",
       "  <thead>\n",
       "    <tr style=\"text-align: right;\">\n",
       "      <th></th>\n",
       "      <th>ID</th>\n",
       "      <th>GENRE</th>\n",
       "      <th>DESCRIPTION</th>\n",
       "    </tr>\n",
       "  </thead>\n",
       "  <tbody>\n",
       "    <tr>\n",
       "      <th>1</th>\n",
       "      <td>Edgar's Lunch (1998)</td>\n",
       "      <td>thriller</td>\n",
       "      <td>L.R. Brane loves his life - his car, his apar...</td>\n",
       "    </tr>\n",
       "    <tr>\n",
       "      <th>2</th>\n",
       "      <td>La guerra de papá (1977)</td>\n",
       "      <td>comedy</td>\n",
       "      <td>Spain, March 1964: Quico is a very naughty ch...</td>\n",
       "    </tr>\n",
       "    <tr>\n",
       "      <th>3</th>\n",
       "      <td>Off the Beaten Track (2010)</td>\n",
       "      <td>documentary</td>\n",
       "      <td>One year in the life of Albin and his family ...</td>\n",
       "    </tr>\n",
       "    <tr>\n",
       "      <th>4</th>\n",
       "      <td>Meu Amigo Hindu (2015)</td>\n",
       "      <td>drama</td>\n",
       "      <td>His father has died, he hasn't spoken with hi...</td>\n",
       "    </tr>\n",
       "    <tr>\n",
       "      <th>5</th>\n",
       "      <td>Er nu zhai (1955)</td>\n",
       "      <td>drama</td>\n",
       "      <td>Before he was known internationally as a mart...</td>\n",
       "    </tr>\n",
       "  </tbody>\n",
       "</table>\n",
       "</div>"
      ],
      "text/plain": [
       "                              ID          GENRE  \\\n",
       "1          Edgar's Lunch (1998)       thriller    \n",
       "2      La guerra de papá (1977)         comedy    \n",
       "3   Off the Beaten Track (2010)    documentary    \n",
       "4        Meu Amigo Hindu (2015)          drama    \n",
       "5             Er nu zhai (1955)          drama    \n",
       "\n",
       "                                         DESCRIPTION  \n",
       "1   L.R. Brane loves his life - his car, his apar...  \n",
       "2   Spain, March 1964: Quico is a very naughty ch...  \n",
       "3   One year in the life of Albin and his family ...  \n",
       "4   His father has died, he hasn't spoken with hi...  \n",
       "5   Before he was known internationally as a mart...  "
      ]
     },
     "metadata": {},
     "output_type": "display_data"
    },
    {
     "name": "stdout",
     "output_type": "stream",
     "text": [
      "(54200, 3)\n"
     ]
    }
   ],
   "source": [
    "display(train_data.head())\n",
    "print(train_data.shape)\n",
    "display(test_data.head())\n",
    "print(test_data.shape)\n",
    "display(test_data_solution.head())\n",
    "print(test_data_solution.shape)"
   ]
  },
  {
   "cell_type": "code",
   "execution_count": 6,
   "id": "83d89026",
   "metadata": {},
   "outputs": [
    {
     "name": "stdout",
     "output_type": "stream",
     "text": [
      "<class 'pandas.core.frame.DataFrame'>\n",
      "RangeIndex: 54214 entries, 0 to 54213\n",
      "Data columns (total 4 columns):\n",
      " #   Column       Non-Null Count  Dtype \n",
      "---  ------       --------------  ----- \n",
      " 0   ID           54214 non-null  int64 \n",
      " 1   TITLE        54214 non-null  object\n",
      " 2   GENRE        54214 non-null  object\n",
      " 3   DESCRIPTION  54214 non-null  object\n",
      "dtypes: int64(1), object(3)\n",
      "memory usage: 1.7+ MB\n"
     ]
    },
    {
     "data": {
      "text/plain": [
       "None"
      ]
     },
     "metadata": {},
     "output_type": "display_data"
    }
   ],
   "source": [
    "display(train_data.info())"
   ]
  },
  {
   "cell_type": "code",
   "execution_count": 7,
   "id": "ef2af41b",
   "metadata": {},
   "outputs": [
    {
     "name": "stdout",
     "output_type": "stream",
     "text": [
      "<class 'pandas.core.frame.DataFrame'>\n",
      "RangeIndex: 54200 entries, 0 to 54199\n",
      "Data columns (total 4 columns):\n",
      " #   Column       Non-Null Count  Dtype  \n",
      "---  ------       --------------  -----  \n",
      " 0   ID           54200 non-null  int64  \n",
      " 1   TITLE        54200 non-null  object \n",
      " 2   GENRE        54200 non-null  object \n",
      " 3   DESCRIPTION  0 non-null      float64\n",
      "dtypes: float64(1), int64(1), object(2)\n",
      "memory usage: 1.7+ MB\n"
     ]
    },
    {
     "data": {
      "text/plain": [
       "None"
      ]
     },
     "metadata": {},
     "output_type": "display_data"
    }
   ],
   "source": [
    "display(test_data.info())"
   ]
  },
  {
   "cell_type": "code",
   "execution_count": 8,
   "id": "7be843cf",
   "metadata": {},
   "outputs": [
    {
     "name": "stdout",
     "output_type": "stream",
     "text": [
      "<class 'pandas.core.frame.DataFrame'>\n",
      "Index: 54200 entries, 1 to 54200\n",
      "Data columns (total 3 columns):\n",
      " #   Column       Non-Null Count  Dtype \n",
      "---  ------       --------------  ----- \n",
      " 0   ID           54200 non-null  object\n",
      " 1   GENRE        54200 non-null  object\n",
      " 2   DESCRIPTION  54200 non-null  object\n",
      "dtypes: object(3)\n",
      "memory usage: 1.7+ MB\n"
     ]
    },
    {
     "data": {
      "text/plain": [
       "None"
      ]
     },
     "metadata": {},
     "output_type": "display_data"
    }
   ],
   "source": [
    "display(test_data_solution.info())"
   ]
  },
  {
   "cell_type": "code",
   "execution_count": 9,
   "id": "2774a820",
   "metadata": {},
   "outputs": [
    {
     "data": {
      "text/plain": [
       "ID             0\n",
       "GENRE          0\n",
       "DESCRIPTION    0\n",
       "dtype: int64"
      ]
     },
     "execution_count": 9,
     "metadata": {},
     "output_type": "execute_result"
    }
   ],
   "source": [
    "test_data_solution.isnull().sum()"
   ]
  },
  {
   "cell_type": "code",
   "execution_count": 10,
   "id": "48a031ee",
   "metadata": {},
   "outputs": [
    {
     "data": {
      "text/plain": [
       "ID             0\n",
       "TITLE          0\n",
       "GENRE          0\n",
       "DESCRIPTION    0\n",
       "dtype: int64"
      ]
     },
     "execution_count": 10,
     "metadata": {},
     "output_type": "execute_result"
    }
   ],
   "source": [
    "train_data.isnull().sum()"
   ]
  },
  {
   "cell_type": "code",
   "execution_count": 11,
   "id": "08854d82",
   "metadata": {
    "scrolled": false
   },
   "outputs": [
    {
     "data": {
      "text/plain": [
       "ID             0\n",
       "GENRE          0\n",
       "DESCRIPTION    0\n",
       "dtype: int64"
      ]
     },
     "execution_count": 11,
     "metadata": {},
     "output_type": "execute_result"
    }
   ],
   "source": [
    "test_data_solution.isnull().sum()"
   ]
  },
  {
   "cell_type": "markdown",
   "id": "5cacaf56",
   "metadata": {},
   "source": [
    "# Visualizing Genre Distribution with Countplot"
   ]
  },
  {
   "cell_type": "code",
   "execution_count": 12,
   "id": "5a17b09b",
   "metadata": {
    "scrolled": false
   },
   "outputs": [
    {
     "data": {
      "image/png": "[encoded data removed]",
      "text/plain": [
       "<Figure size 1000x600 with 1 Axes>"
      ]
     },
     "metadata": {},
     "output_type": "display_data"
    }
   ],
   "source": [
    "\n",
    "plt.figure(figsize=(10, 6))\n",
    "sns.countplot(y=train_data['GENRE'], order=train_data['GENRE'].value_counts().index)\n",
    "plt.title('Count of Each Genre')\n",
    "plt.xlabel('Count')\n",
    "plt.ylabel('Genre')\n",
    "plt.show()\n"
   ]
  },
  {
   "cell_type": "markdown",
   "id": "bfb39175",
   "metadata": {},
   "source": [
    "# Visualizing Top 10 Most Frequent Movies by Title"
   ]
  },
  {
   "cell_type": "code",
   "execution_count": 13,
   "id": "f513d3cc",
   "metadata": {
    "scrolled": false
   },
   "outputs": [
    {
     "data": {
      "image/png": "[encoded data removed]",
      "text/plain": [
       "<Figure size 640x480 with 1 Axes>"
      ]
     },
     "metadata": {},
     "output_type": "display_data"
    }
   ],
   "source": [
    "top_10_movies = train_data['TITLE'].value_counts().head(10)\n",
    "top_10_movies.plot(kind='bar', color='pink')\n",
    "plt.title('Top 10 Movies by Count')\n",
    "plt.xlabel('Movie Title')\n",
    "plt.ylabel('Count')\n",
    "plt.xticks(rotation=45, ha='right')\n",
    "plt.show()\n",
    "\n"
   ]
  },
  {
   "cell_type": "markdown",
   "id": "1d66bd1f",
   "metadata": {},
   "source": [
    "# Visualizing Top 10 Most Frequent Genres by Count"
   ]
  },
  {
   "cell_type": "code",
   "execution_count": 14,
   "id": "b9313dc3",
   "metadata": {},
   "outputs": [
    {
     "data": {
      "image/png": "[encoded data removed]",
      "text/plain": [
       "<Figure size 640x480 with 1 Axes>"
      ]
     },
     "metadata": {},
     "output_type": "display_data"
    }
   ],
   "source": [
    "top_10_movies = train_data['GENRE'].value_counts().head(10)\n",
    "top_10_movies.plot(kind='bar', color='gray')\n",
    "plt.title('Top 10 Genre by Count')\n",
    "plt.xlabel('Genre Title')\n",
    "plt.ylabel('Count')\n",
    "plt.xticks(rotation=45, ha='right')\n",
    "plt.show()\n"
   ]
  },
  {
   "cell_type": "code",
   "execution_count": 15,
   "id": "8f5ead11",
   "metadata": {},
   "outputs": [],
   "source": [
    "train_data['DESCRIPTION'].fillna('',inplace =True)\n",
    "test_data['DESCRIPTION'].fillna('',inplace = True)"
   ]
  },
  {
   "cell_type": "markdown",
   "id": "eb047a16",
   "metadata": {},
   "source": [
    "# Encoding Genre Labels with LabelEncoder"
   ]
  },
  {
   "cell_type": "code",
   "execution_count": 29,
   "id": "1a0b3081",
   "metadata": {},
   "outputs": [],
   "source": [
    "lb = LabelEncoder()\n",
    "train_data['GENRE'] = lb.fit_transform(train_data['GENRE'])"
   ]
  },
  {
   "cell_type": "markdown",
   "id": "5ff18263",
   "metadata": {},
   "source": [
    "# Transforming Movie Descriptions with TF-IDF Vectorizer"
   ]
  },
  {
   "cell_type": "code",
   "execution_count": 34,
   "id": "cffe200a",
   "metadata": {},
   "outputs": [],
   "source": [
    "tfid = TfidfVectorizer(max_features=100000)"
   ]
  },
  {
   "cell_type": "code",
   "execution_count": 35,
   "id": "01d829f2",
   "metadata": {},
   "outputs": [],
   "source": [
    "x_train_tfid = tfid.fit_transform(train_data['DESCRIPTION'])\n",
    "x_test_tfid = tfid.transform(test_data['DESCRIPTION'])"
   ]
  },
  {
   "cell_type": "code",
   "execution_count": 36,
   "id": "ceaa310c",
   "metadata": {},
   "outputs": [],
   "source": [
    "x = x_train_tfid\n",
    "y = train_data['GENRE']"
   ]
  },
  {
   "cell_type": "markdown",
   "id": "139d27ca",
   "metadata": {},
   "source": [
    "# Splitting Data into Training and Testing Sets"
   ]
  },
  {
   "cell_type": "code",
   "execution_count": 37,
   "id": "ab9d8a92",
   "metadata": {},
   "outputs": [],
   "source": [
    "x_train,x_test,y_train,y_test = train_test_split(x,y,test_size=0.2,random_state=42)"
   ]
  },
  {
   "cell_type": "markdown",
   "id": "028444ec",
   "metadata": {},
   "source": [
    "# Training and Evaluating Multinomial Naive Bayes Model"
   ]
  },
  {
   "cell_type": "code",
   "execution_count": 56,
   "id": "68b7a05f",
   "metadata": {},
   "outputs": [],
   "source": [
    "navie_model = MultinomialNB()"
   ]
  },
  {
   "cell_type": "code",
   "execution_count": 40,
   "id": "314929fa",
   "metadata": {},
   "outputs": [
    {
     "data": {
      "text/plain": [
       "array([8, 8, 8, ..., 8, 8, 8])"
      ]
     },
     "execution_count": 40,
     "metadata": {},
     "output_type": "execute_result"
    }
   ],
   "source": [
    "navie_model.fit(x_train,y_train)\n",
    "\n",
    "np_prediction=navie_model.predict(x_test)\n",
    "np_prediction\n",
    "\n",
    "print(classification_report(y_test,np_prediction))"
   ]
  },
  {
   "cell_type": "code",
   "execution_count": 43,
   "id": "a67cd172",
   "metadata": {},
   "outputs": [
    {
     "name": "stdout",
     "output_type": "stream",
     "text": [
      "[[   0    0    0    0    0    0    0   59  204    0    0    0    0    0\n",
      "     0    0    0    0    0    0    0    0    0    0    0    0    0]\n",
      " [   0    0    0    0    0    0    0   10  102    0    0    0    0    0\n",
      "     0    0    0    0    0    0    0    0    0    0    0    0    0]\n",
      " [   0    0    0    0    0    1    0   40   98    0    0    0    0    0\n",
      "     0    0    0    0    0    0    0    0    0    0    0    0    0]\n",
      " [   0    0    0    0    0    0    0   38   66    0    0    0    0    0\n",
      "     0    0    0    0    0    0    0    0    0    0    0    0    0]\n",
      " [   0    0    0    0    0    1    0   39   20    0    0    0    0    0\n",
      "     0    0    0    0    0    0    0    1    0    0    0    0    0]\n",
      " [   0    0    0    0    0   57    0  239 1147    0    0    0    0    0\n",
      "     0    0    0    0    0    0    0    0    0    0    0    0    0]\n",
      " [   0    0    0    0    0    0    0    9   98    0    0    0    0    0\n",
      "     0    0    0    0    0    0    0    0    0    0    0    0    0]\n",
      " [   0    0    0    0    0    6    0 2391  261    0    0    0    0    0\n",
      "     0    0    0    0    0    0    0    1    0    0    0    0    0]\n",
      " [   0    0    0    0    0   21    0  288 2388    0    0    0    0    0\n",
      "     0    0    0    0    0    0    0    0    0    0    0    0    0]\n",
      " [   0    0    0    0    0    3    0   67   80    0    0    0    0    0\n",
      "     0    0    0    0    0    0    0    0    0    0    0    0    0]\n",
      " [   0    0    0    0    0    0    0   15   59    0    0    0    0    0\n",
      "     0    0    0    0    0    0    0    0    0    0    0    0    0]\n",
      " [   0    0    0    0    0    0    0   32    8    0    0    0    0    0\n",
      "     0    0    0    0    0    0    0    0    0    0    0    0    0]\n",
      " [   0    0    0    0    0    0    0   33   12    0    0    0    0    0\n",
      "     0    0    0    0    0    0    0    0    0    0    0    0    0]\n",
      " [   0    0    0    0    0    0    0   68  363    0    0    0    0    0\n",
      "     0    0    0    0    0    0    0    0    0    0    0    0    0]\n",
      " [   0    0    0    0    0    1    0  135    8    0    0    0    0    0\n",
      "     0    0    0    0    0    0    0    0    0    0    0    0    0]\n",
      " [   0    0    0    0    0    0    0   17   33    0    0    0    0    0\n",
      "     0    0    0    0    0    0    0    0    0    0    0    0    0]\n",
      " [   0    0    0    0    0    0    0    8   48    0    0    0    0    0\n",
      "     0    0    0    0    0    0    0    0    0    0    0    0    0]\n",
      " [   0    0    0    0    0    0    0   33    1    0    0    0    0    0\n",
      "     0    0    0    0    0    0    0    0    0    0    0    0    0]\n",
      " [   0    0    0    0    0    1    0  154   37    0    0    0    0    0\n",
      "     0    0    0    0    0    0    0    0    0    0    0    0    0]\n",
      " [   0    0    0    0    0    0    0    5  146    0    0    0    0    0\n",
      "     0    0    0    0    0    0    0    0    0    0    0    0    0]\n",
      " [   0    0    0    0    0    1    0   69   73    0    0    0    0    0\n",
      "     0    0    0    0    0    0    0    0    0    0    0    0    0]\n",
      " [   0    0    0    0    0    2    0  493  549    0    0    0    0    0\n",
      "     0    0    0    0    0    0    0    1    0    0    0    0    0]\n",
      " [   0    0    0    0    0    0    0   88    5    0    0    0    0    0\n",
      "     0    0    0    0    0    0    0    0    0    0    0    0    0]\n",
      " [   0    0    0    0    0    0    0   78    3    0    0    0    0    0\n",
      "     0    0    0    0    0    0    0    0    0    0    0    0    0]\n",
      " [   0    0    0    0    0    1    0   19  289    0    0    0    0    0\n",
      "     0    0    0    0    0    0    0    0    0    0    0    0    0]\n",
      " [   0    0    0    0    0    0    0    9   11    0    0    0    0    0\n",
      "     0    0    0    0    0    0    0    0    0    0    0    0    0]\n",
      " [   0    0    0    0    0    0    0    4  196    0    0    0    0    0\n",
      "     0    0    0    0    0    0    0    0    0    0    0    0    0]]\n"
     ]
    }
   ],
   "source": [
    "print(confusion_matrix(y_test,np_prediction))"
   ]
  },
  {
   "cell_type": "code",
   "execution_count": 44,
   "id": "cb95ca52",
   "metadata": {},
   "outputs": [
    {
     "name": "stdout",
     "output_type": "stream",
     "text": [
      "accuracy_score: 0.4460942543576501\n"
     ]
    }
   ],
   "source": [
    "print(\"accuracy_score:\",accuracy_score(y_test,np_prediction))"
   ]
  },
  {
   "cell_type": "code",
   "execution_count": 45,
   "id": "ba10b37d",
   "metadata": {},
   "outputs": [
    {
     "name": "stdout",
     "output_type": "stream",
     "text": [
      "r2_score: -0.16664235106232161\n"
     ]
    }
   ],
   "source": [
    "print(\"r2_score:\",r2_score(y_test,np_prediction))"
   ]
  },
  {
   "cell_type": "markdown",
   "id": "c172b844",
   "metadata": {},
   "source": [
    "# Training and Evaluating Logistic Regression Model"
   ]
  },
  {
   "cell_type": "code",
   "execution_count": 46,
   "id": "10729f81",
   "metadata": {},
   "outputs": [
    {
     "name": "stdout",
     "output_type": "stream",
     "text": [
      "              precision    recall  f1-score   support\n",
      "\n",
      "           0       0.62      0.23      0.34       263\n",
      "           1       0.92      0.20      0.32       112\n",
      "           2       0.46      0.12      0.18       139\n",
      "           3       0.00      0.00      0.00       104\n",
      "           4       0.00      0.00      0.00        61\n",
      "           5       0.54      0.59      0.56      1443\n",
      "           6       1.00      0.01      0.02       107\n",
      "           7       0.66      0.88      0.75      2659\n",
      "           8       0.54      0.81      0.65      2697\n",
      "           9       0.57      0.05      0.10       150\n",
      "          10       0.00      0.00      0.00        74\n",
      "          11       1.00      0.38      0.55        40\n",
      "          12       0.00      0.00      0.00        45\n",
      "          13       0.66      0.58      0.62       431\n",
      "          14       0.64      0.44      0.52       144\n",
      "          15       0.00      0.00      0.00        50\n",
      "          16       0.00      0.00      0.00        56\n",
      "          17       0.00      0.00      0.00        34\n",
      "          18       0.51      0.16      0.24       192\n",
      "          19       0.00      0.00      0.00       151\n",
      "          20       0.59      0.17      0.26       143\n",
      "          21       0.55      0.33      0.41      1045\n",
      "          22       0.71      0.18      0.29        93\n",
      "          23       0.71      0.15      0.24        81\n",
      "          24       0.44      0.11      0.18       309\n",
      "          25       0.00      0.00      0.00        20\n",
      "          26       0.94      0.69      0.80       200\n",
      "\n",
      "    accuracy                           0.59     10843\n",
      "   macro avg       0.45      0.22      0.26     10843\n",
      "weighted avg       0.56      0.59      0.54     10843\n",
      "\n"
     ]
    }
   ],
   "source": [
    "logistic_model = LogisticRegression()\n",
    "logistic_model.fit(x_train,y_train)\n",
    "lg_predict = logistic_model.predict(x_test)\n",
    "print(classification_report(y_test,lg_predict))"
   ]
  },
  {
   "cell_type": "code",
   "execution_count": 47,
   "id": "10484a96",
   "metadata": {
    "scrolled": true
   },
   "outputs": [
    {
     "name": "stdout",
     "output_type": "stream",
     "text": [
      "accuracy_score: 0.590150327400166\n",
      "r2_score: 0.002781988514417133\n"
     ]
    }
   ],
   "source": [
    "print(\"accuracy_score:\",accuracy_score(y_test,lg_predict))\n",
    "print(\"r2_score:\",r2_score(y_test,lg_predict))"
   ]
  },
  {
   "cell_type": "markdown",
   "id": "5704096e",
   "metadata": {},
   "source": [
    "# Training and Evaluating Linear Support Vector Classifier (SVC)"
   ]
  },
  {
   "cell_type": "code",
   "execution_count": 48,
   "id": "0914ae1b",
   "metadata": {},
   "outputs": [
    {
     "name": "stdout",
     "output_type": "stream",
     "text": [
      "              precision    recall  f1-score   support\n",
      "\n",
      "           0       0.48      0.34      0.40       263\n",
      "           1       0.80      0.44      0.57       112\n",
      "           2       0.46      0.23      0.31       139\n",
      "           3       0.47      0.17      0.25       104\n",
      "           4       0.00      0.00      0.00        61\n",
      "           5       0.54      0.59      0.56      1443\n",
      "           6       0.23      0.03      0.05       107\n",
      "           7       0.69      0.83      0.76      2659\n",
      "           8       0.57      0.74      0.64      2697\n",
      "           9       0.39      0.16      0.23       150\n",
      "          10       0.11      0.01      0.02        74\n",
      "          11       0.84      0.68      0.75        40\n",
      "          12       1.00      0.02      0.04        45\n",
      "          13       0.66      0.67      0.67       431\n",
      "          14       0.60      0.58      0.59       144\n",
      "          15       0.50      0.06      0.11        50\n",
      "          16       0.43      0.05      0.10        56\n",
      "          17       0.25      0.06      0.10        34\n",
      "          18       0.52      0.31      0.39       192\n",
      "          19       0.23      0.05      0.08       151\n",
      "          20       0.50      0.31      0.38       143\n",
      "          21       0.47      0.37      0.41      1045\n",
      "          22       0.60      0.39      0.47        93\n",
      "          23       0.64      0.28      0.39        81\n",
      "          24       0.32      0.17      0.22       309\n",
      "          25       0.33      0.05      0.09        20\n",
      "          26       0.85      0.82      0.84       200\n",
      "\n",
      "    accuracy                           0.59     10843\n",
      "   macro avg       0.50      0.31      0.35     10843\n",
      "weighted avg       0.57      0.59      0.57     10843\n",
      "\n"
     ]
    }
   ],
   "source": [
    "svc_model = LinearSVC()\n",
    "svc_model.fit(x_train,y_train)\n",
    "svc_prediction = svc_model.predict(x_test)\n",
    "print(classification_report(y_test,svc_prediction))"
   ]
  },
  {
   "cell_type": "code",
   "execution_count": 49,
   "id": "c4e77ab8",
   "metadata": {
    "scrolled": true
   },
   "outputs": [
    {
     "name": "stdout",
     "output_type": "stream",
     "text": [
      "accuracy_score: 0.5942082449506594\n",
      "r2_score: -0.045716038433430306\n"
     ]
    }
   ],
   "source": [
    "print(\"accuracy_score:\",accuracy_score(y_test,svc_prediction))\n",
    "print(\"r2_score:\",r2_score(y_test,svc_prediction))"
   ]
  },
  {
   "cell_type": "code",
   "execution_count": 50,
   "id": "d524333e",
   "metadata": {},
   "outputs": [],
   "source": [
    "model1 = {\n",
    "    LinearSVC(): \"LinearSVC\",\n",
    "    MultinomialNB(): \"NaiveBayes\",\n",
    "    LogisticRegression(): \"LogisticRegression\"\n",
    "}"
   ]
  },
  {
   "cell_type": "markdown",
   "id": "bd4bf931",
   "metadata": {},
   "source": [
    "# Selecting the Best Model Based on Accuracy"
   ]
  },
  {
   "cell_type": "code",
   "execution_count": 51,
   "id": "d47f916c",
   "metadata": {},
   "outputs": [
    {
     "name": "stdout",
     "output_type": "stream",
     "text": [
      "Best Model: LinearSVC with accuracy 0.5942082449506594\n"
     ]
    }
   ],
   "source": [
    "def best_model(models):\n",
    "    best_accuracy = 0\n",
    "    best_model_name = \"\"\n",
    "    \n",
    "    for model,name in models.items():\n",
    "        model.fit(x_train,y_train)\n",
    "        predictions = model.predict(x_test)\n",
    "        \n",
    "        accuracy = accuracy_score(y_test,predictions)\n",
    "            \n",
    "        if accuracy>best_accuracy:\n",
    "            best_accuracy=accuracy\n",
    "            best_model_name = name\n",
    "    return best_model_name, best_accuracy\n",
    "            \n",
    "best_model_name, best_accuracy = best_model(model1)\n",
    "print(f\"Best Model: {best_model_name} with accuracy {best_accuracy}\")"
   ]
  },
  {
   "cell_type": "markdown",
   "id": "316b4563",
   "metadata": {},
   "source": [
    "# Predicting Movie Genre from Description Using SVC"
   ]
  },
  {
   "cell_type": "code",
   "execution_count": 52,
   "id": "823497ed",
   "metadata": {},
   "outputs": [],
   "source": [
    "def predict_movie(description):\n",
    "    tfid1 = tfid.transform([description])\n",
    "    predict_label = svc_model.predict(tfid1)\n",
    "    return lb.inverse_transform(predict_label)"
   ]
  },
  {
   "cell_type": "code",
   "execution_count": 55,
   "id": "b7feea05",
   "metadata": {},
   "outputs": [
    {
     "name": "stdout",
     "output_type": "stream",
     "text": [
      "[' crime ']\n"
     ]
    }
   ],
   "source": [
    "sample_input = 'police chases a criminal and shoot him'\n",
    "print(predict_movie(sample_input))"
   ]
  },
  {
   "cell_type": "code",
   "execution_count": null,
   "id": "1a4eb3d0",
   "metadata": {},
   "outputs": [],
   "source": []
  },
  {
   "cell_type": "code",
   "execution_count": null,
   "id": "ad88c135",
   "metadata": {},
   "outputs": [],
   "source": []
  }
 ],
 "metadata": {
  "kernelspec": {
   "display_name": "Python 3 (ipykernel)",
   "language": "python",
   "name": "python3"
  },
  "language_info": {
   "codemirror_mode": {
    "name": "ipython",
    "version": 3
   },
   "file_extension": ".py",
   "mimetype": "text/x-python",
   "name": "python",
   "nbconvert_exporter": "python",
   "pygments_lexer": "ipython3",
   "version": "3.11.5"
  }
 },
 "nbformat": 4,
 "nbformat_minor": 5
}
